{
 "cells": [
  {
   "cell_type": "markdown",
   "metadata": {},
   "source": [
    "1. База данных для хранения исходных данных, промежуточных и окончательных результатов.\n",
    "Создано в DB Browser for SQLite:\n",
    "\n",
    "CREATE TABLE \"Sentences\" (\n",
    "\t\"ID\"\tINTEGER,\n",
    "\t\"Sentence\"\tTEXT,\n",
    "\t\"Metadata\"\tTEXT,\n",
    "\tPRIMARY KEY(\"ID\" AUTOINCREMENT)\n",
    ")\n",
    "CREATE TABLE \"Words\" (\n",
    "\t\"ID\"\tINTEGER,\n",
    "\t\"Token\"\tTEXT,\n",
    "\t\"Lemma\"\tTEXT,\n",
    "\t\"POS\"\tTEXT,\n",
    "\t\"ID_sent\"\tINTEGER,\n",
    "\tPRIMARY KEY(\"ID\" AUTOINCREMENT)\n",
    ")"
   ]
  },
  {
   "cell_type": "code",
   "execution_count": 2,
   "metadata": {},
   "outputs": [],
   "source": [
    "import sqlite3\n",
    "from conllu import parse\n",
    "from os import listdir"
   ]
  },
  {
   "cell_type": "code",
   "execution_count": 7,
   "metadata": {},
   "outputs": [],
   "source": [
    "conn = sqlite3.connect('DoctorWho.db')\n",
    "cur = conn.cursor()"
   ]
  },
  {
   "cell_type": "markdown",
   "metadata": {},
   "source": [
    "Для коллекции предложений conllu идёт первичная итерация по предложениям sent с метадатой meta, вторичная итерация по токенам token с леммой lemma и тегом tag"
   ]
  },
  {
   "cell_type": "code",
   "execution_count": 8,
   "metadata": {},
   "outputs": [],
   "source": [
    "# пишем данные в базу\n",
    "id_sent = 1\n",
    "id_token = 1\n",
    "for file in listdir('fics_conllus'):\n",
    "    filename = 'fics_conllus/' + file\n",
    "    with open(filename) as f:\n",
    "        text = f.read()\n",
    "    tokens = parse(text)\n",
    "    for line in tokens:\n",
    "        meta = str(line.metadata['metadata'])\n",
    "        sent = str(line.metadata['text'])\n",
    "        cur.execute(\"INSERT INTO Sentences VALUES (?,?,?)\", (id_sent, sent, meta)) # id, предложение, метадата\n",
    "        for word in line:\n",
    "            token = word['form'].lower()\n",
    "            lemma = word['lemma']\n",
    "            tag = word['upos']\n",
    "            if tag != 'PUNCT':\n",
    "                cur.execute(\n",
    "                    \"\"\"\n",
    "                        INSERT INTO Words\n",
    "                        VALUES (?,?,?,?,?)\n",
    "                    \"\"\", (id_token,token,lemma,tag,id_sent)) # id, токен, лемма, тег, id предложения, из которго взято слово\n",
    "                id_token +=1\n",
    "        id_sent += 1\n",
    "conn.commit()"
   ]
  },
  {
   "cell_type": "code",
   "execution_count": 9,
   "metadata": {},
   "outputs": [],
   "source": [
    "# request = [([entry], search_type)], search_type IN token, lemma, POS, lemma+POS\n",
    "# Если нужна последовательность из 2-3 слов\n",
    "# Вынимаем из базы  ID предложений, в которых встречаются искомые вхождения, и ID самих вхождений\n",
    "def search_sequence(request):\n",
    "    output = []\n",
    "    for entry in request:\n",
    "        if entry[1] != 'lemma+pos':\n",
    "            query = 'SELECT ID_sent, ID FROM Words WHERE Words.'+ entry[1]+ '=\"'  + entry[0][0] +'\"'\n",
    "        else:\n",
    "            query = 'SELECT ID_sent, ID FROM Words WHERE Words.lemma=\"'  + entry[0][0] + '\"AND Words.POS=\"' + entry[0][1]+'\"'\n",
    "        res = cur.execute(query)\n",
    "        output.append(res.fetchall())\n",
    "    return(output)"
   ]
  },
  {
   "cell_type": "code",
   "execution_count": 10,
   "metadata": {},
   "outputs": [],
   "source": [
    "# Продолжение поиска последовательности из 2-3 слов\n",
    "# Из предыдущей функции мы получили для каждого запроса список пар (ID предложений, в которых встречаются искомые вхождения, [ID самих вхождений])\n",
    "# и сложили их в список второго уровня, из двух или трёх элементов. Собираем теперь словарь нужных нам предложений. \n",
    "def merge_sequence(one, two, first):\n",
    "    res = {}\n",
    "    second = {}\n",
    "    if not first:\n",
    "        for entry in one:\n",
    "            if entry[0] not in first.keys():\n",
    "                first[entry[0]] = [entry[1]+1]\n",
    "            else:\n",
    "                first[entry[0]].append(entry[1]+1)\n",
    "    else:\n",
    "        for key in first:\n",
    "            first[key] = [value + 1 for value in first[key]]\n",
    "    for entry in two:\n",
    "        if entry[0] in first.keys():\n",
    "            if entry[0] not in second.keys():\n",
    "                second[entry[0]] = [entry[1]]\n",
    "            else:\n",
    "                second[entry[0]].append(entry[1])\n",
    "    for key in second.keys():\n",
    "        if set(first[key]) & set(second[key]):\n",
    "            res[key] = list(set(first[key]) & set(second[key]))\n",
    "    return(res)"
   ]
  },
  {
   "cell_type": "code",
   "execution_count": 11,
   "metadata": {},
   "outputs": [],
   "source": [
    "# request = [([entry], search_type)], search_type IN token, lemma, POS, lemma+POS\n",
    "# Если нужно одно слово - сразу вынимаем из базы предложения и метадату\n",
    "def search_one(request):\n",
    "    if request[0][1] != 'lemma+pos':\n",
    "        query = 'SELECT DISTINCT Sentence, Metadata FROM Sentences JOIN Words ON Words.ID_sent = Sentences.ID WHERE Words.' + request[0][1]+ '=\"' + request[0][0][0]+'\"'\n",
    "    else:\n",
    "        query = 'SELECT DISTINCT Sentence, Metadata FROM Sentences JOIN Words ON Words.ID_sent = Sentences.ID WHERE Words.lemma' + '=\"' + request[0][0][0]+ '\" AND Words.POS' + '=\"' + request[0][0][1] + '\"'\n",
    "    res = cur.execute(query)\n",
    "    result = res.fetchall()\n",
    "    return(result)"
   ]
  },
  {
   "cell_type": "code",
   "execution_count": 12,
   "metadata": {},
   "outputs": [],
   "source": [
    "# request = [([entry], search_type)], search_type IN token, lemma, POS, lemma+POS\n",
    "def main(request):\n",
    "    if len(request) == 1:\n",
    "        output = search_one(request)\n",
    "    else:\n",
    "        ids = search_sequence(request)\n",
    "        l = len(ids)\n",
    "        flag = True\n",
    "        for i in range(l-1):\n",
    "            if flag:\n",
    "                result = merge_sequence(ids[i], ids[i+1], {})\n",
    "                flag = False\n",
    "            else:\n",
    "                result = merge_sequence([],ids[i+1],result)\n",
    "    if result:\n",
    "        keys = list(result.keys())\n",
    "        output = []\n",
    "        for key in keys:\n",
    "            cur.execute(\"SELECT Sentence, Metadata FROM Sentences WHERE ID = ?\", (key,))\n",
    "            output.append(cur.fetchone())\n",
    "    else:\n",
    "        output = [(\"Sorry, no matches to your request\")]\n",
    "    return(output)"
   ]
  },
  {
   "cell_type": "code",
   "execution_count": 13,
   "metadata": {},
   "outputs": [],
   "source": [
    "# test of functions\n",
    "# requests\n",
    "lemma_search = [(['парень'], 'lemma')]\n",
    "token_search = [(['парня'], 'token')]\n",
    "pos_search = [(['PROPN'], 'POS')]\n",
    "lemma_pos_search = [(['парень','NOUN'], 'lemma+pos')]\n",
    "long_search = [(['не'], 'lemma'), (['знать'], 'lemma'), (['что'], 'lemma')]"
   ]
  },
  {
   "cell_type": "code",
   "execution_count": null,
   "metadata": {},
   "outputs": [],
   "source": [
    "search_one()"
   ]
  },
  {
   "cell_type": "code",
   "execution_count": null,
   "metadata": {},
   "outputs": [],
   "source": [
    "search_sequence(long_search)"
   ]
  },
  {
   "cell_type": "code",
   "execution_count": 14,
   "metadata": {},
   "outputs": [
    {
     "data": {
      "text/plain": [
       "[('Мир, который не замрет от ужаса перед собственной мощью, под гнетом вечного страха не смеющий шелохнуться, изнывая от злобы и зависти к мирам, которые еще не знают, что все предопределено, что им не дадут сделать ни шага в сторону.',\n",
       "  'Название: Флот Хардрады, автор: Гарольд Бранд, ссылка: https://ru.fanfiktion.net/s/5453502700000a7f24559792/1/Flot-Hardrady'),\n",
       " ('Видимо, хозяин кошек решил вступиться за своих любимиц, не зная, что нельзя загонять крыс в угол.',\n",
       "  'Название: Вирус, автор: Мисс Жуть, ссылка: https://ru.fanfiktion.net/s/5456afd200000a7d34928061/1/Virus'),\n",
       " ('Оно там, высоко, светит и не знает, что кто-то здесь, на Дариллиуме, очень на него зол.',\n",
       "  'Название: Степень не-вероятности, автор: tigryonok-u, ссылка: https://ru.fanfiktion.net/s/5ab0ce68000016a3db6c11e/1/Stepen-ne-veroyatnosti'),\n",
       " ('— О, милочка, ты не знала, что ТАРДИС смертны?',\n",
       "  'Название: Степень не-вероятности, автор: tigryonok-u, ссылка: https://ru.fanfiktion.net/s/5ab0ce68000016a3db6c11e/1/Stepen-ne-veroyatnosti'),\n",
       " ('Он не знал, что сказать.',\n",
       "  'Название: Степень не-вероятности, автор: tigryonok-u, ссылка: https://ru.fanfiktion.net/s/5ab0ce68000016a3db6c11e/1/Stepen-ne-veroyatnosti'),\n",
       " ('Доктор крутился вокруг консоли, не зная, что придумать.',\n",
       "  'Название: Степень не-вероятности, автор: tigryonok-u, ссылка: https://ru.fanfiktion.net/s/5ab0ce68000016a3db6c11e/1/Stepen-ne-veroyatnosti'),\n",
       " ('Мастер не знал, что лучше – попытаться остановить жену или позволить ей убить ее главную помощницу ради ее же спокойствия, но на всякий случай бросился за ней.',\n",
       "  'Название: Хроники Нью-Галлифрея, автор: Мисс Жуть, ссылка: https://ru.fanfiktion.net/s/54961b3f00000a7d234b0edb/1/Hroniki-Nyu-Gallifreya'),\n",
       " ('*** - Дорогая, а ты не знаешь, что это тут появилось?',\n",
       "  'Название: Хроники Нью-Галлифрея, автор: Мисс Жуть, ссылка: https://ru.fanfiktion.net/s/54961b3f00000a7d234b0edb/1/Hroniki-Nyu-Gallifreya'),\n",
       " ('Я не знаю, что это может быть и откуда!',\n",
       "  'Название: Хроники Нью-Галлифрея, автор: Мисс Жуть, ссылка: https://ru.fanfiktion.net/s/54961b3f00000a7d234b0edb/1/Hroniki-Nyu-Gallifreya'),\n",
       " ('Ты тогда не знал, что она раза в два, а то и больше, старше тебя.',\n",
       "  'Название: Хомячок и хейтер о вселенной Хуниверса, автор: Мисс Жуть, ссылка: https://ru.fanfiktion.net/s/5494a8c800000a7d225d12d7/1/Homyachok-i-hejter-o-vselennoj-Huniversa'),\n",
       " ('Так может заворожить бездна, в которой теряются и искры света, и эхо; так может заворожить черное ночное море, в котором на немыслимой глубине у самого дна плавают зубастые чудовища, приманивая доверчивых жертв отростком-фонариком; так может заворожить иссиня-черное небо со сполохами молний, от которого не знаешь, чего ждать – просто ледяного отрезвляющего дождя, или электрического разряда в сердце, способного оставить от тебя только обугленные кости.',\n",
       "  'Название: Сила, автор: Мисс Жуть, ссылка: https://ru.fanfiktion.net/s/54726f1e00000a7d32565115/1/Sila'),\n",
       " ('Никогда не знаешь, что именно в нем получишь в ответ на свой заказ.',\n",
       "  'Название: Квантовое кафе, автор: Гарольд Бранд, ссылка: https://ru.fanfiktion.net/s/5469057300000a7f318a8349/1/Kvantovoe-kafe'),\n",
       " ('– А я и не знал, что тут бывает так здорово!',\n",
       "  'Название: Сначала дети!, автор: Мисс Жуть, ссылка: https://ru.fanfiktion.net/s/5494ae5f00000a7d39c0152d/1/Snachala-deti'),\n",
       " ('Раз уж ты здесь, лучше бы занялся белой тварью - я не знаю, что будет, если она вырвется отсюда наружу…',\n",
       "  'Название: Новый Галлифрей, автор: Гарольд Бранд, ссылка: https://ru.fanfiktion.net/s/54745a6900000a7f106dd596/1/Novyj-Gallifrej'),\n",
       " ('Я не знаю, что они делали.',\n",
       "  'Название: Новый Галлифрей, автор: Гарольд Бранд, ссылка: https://ru.fanfiktion.net/s/54745a6900000a7f106dd596/1/Novyj-Gallifrej'),\n",
       " ('За то, что не знаю, чего хочу на самом деле.',\n",
       "  'Название: Новый Галлифрей, автор: Гарольд Бранд, ссылка: https://ru.fanfiktion.net/s/54745a6900000a7f106dd596/1/Novyj-Gallifrej'),\n",
       " ('И я не знал, что мне с ним делать.',\n",
       "  'Название: Новый Галлифрей, автор: Гарольд Бранд, ссылка: https://ru.fanfiktion.net/s/54745a6900000a7f106dd596/1/Novyj-Gallifrej'),\n",
       " ('Она не знала, что я окопался здесь, наблюдая за ней.',\n",
       "  'Название: Новый Галлифрей, автор: Гарольд Бранд, ссылка: https://ru.fanfiktion.net/s/54745a6900000a7f106dd596/1/Novyj-Gallifrej'),\n",
       " ('Так, что ты даже не знала, что я рядом.',\n",
       "  'Название: Новый Галлифрей, автор: Гарольд Бранд, ссылка: https://ru.fanfiktion.net/s/54745a6900000a7f106dd596/1/Novyj-Gallifrej'),\n",
       " ('Но я не знаю, что мне делать, когда ты плачешь.',\n",
       "  'Название: Новый Галлифрей, автор: Гарольд Бранд, ссылка: https://ru.fanfiktion.net/s/54745a6900000a7f106dd596/1/Novyj-Gallifrej'),\n",
       " ('- Можно подумать, ты не знаешь, что тут это в порядке вещей.',\n",
       "  'Название: Новый Галлифрей, автор: Гарольд Бранд, ссылка: https://ru.fanfiktion.net/s/54745a6900000a7f106dd596/1/Novyj-Gallifrej'),\n",
       " ('Они не знали, что я там, и кто я такой.',\n",
       "  'Название: Новый Галлифрей, автор: Гарольд Бранд, ссылка: https://ru.fanfiktion.net/s/54745a6900000a7f106dd596/1/Novyj-Gallifrej'),\n",
       " ('Хотя есть, конечно, и плохая новость – я пока так же не знаю, что происходит, как и вы.',\n",
       "  'Название: Новый Галлифрей, автор: Гарольд Бранд, ссылка: https://ru.fanfiktion.net/s/54745a6900000a7f106dd596/1/Novyj-Gallifrej'),\n",
       " ('Не знаю, что ты сделал и зачем стер нам память – куда-то делись 20 минут, но СПАСИБО!',\n",
       "  'Название: Новый Галлифрей, автор: Гарольд Бранд, ссылка: https://ru.fanfiktion.net/s/54745a6900000a7f106dd596/1/Novyj-Gallifrej'),\n",
       " ('Ты падающий снаряд, метеорит, комета, я не знаю, что ты такое!',\n",
       "  'Название: Облако Оорта, автор: Гарольд Бранд, ссылка: https://ru.fanfiktion.net/s/545e99a700000a7f3ac7d62b/1/Oblako-Oorta'),\n",
       " ('Как про сидов в холмах с их волшебными задачками, которые никогда не знаешь, чем кончатся...',\n",
       "  'Название: Дюны Марса, автор: Гарольд Бранд, ссылка: https://ru.fanfiktion.net/s/545785b000000a7f3a6fec75/1/Dyuny-Marsa'),\n",
       " ('– Мы не знаем, что в точности произошло, – уклончиво ответил Доктор.',\n",
       "  'Название: Дюны Марса, автор: Гарольд Бранд, ссылка: https://ru.fanfiktion.net/s/545785b000000a7f3a6fec75/1/Dyuny-Marsa')]"
      ]
     },
     "execution_count": 14,
     "metadata": {},
     "output_type": "execute_result"
    }
   ],
   "source": [
    "main(long_search)"
   ]
  },
  {
   "cell_type": "code",
   "execution_count": 93,
   "metadata": {},
   "outputs": [],
   "source": [
    "conn.close()"
   ]
  }
 ],
 "metadata": {
  "kernelspec": {
   "display_name": "Python 3",
   "language": "python",
   "name": "python3"
  },
  "language_info": {
   "codemirror_mode": {
    "name": "ipython",
    "version": 3
   },
   "file_extension": ".py",
   "mimetype": "text/x-python",
   "name": "python",
   "nbconvert_exporter": "python",
   "pygments_lexer": "ipython3",
   "version": "3.10.12"
  }
 },
 "nbformat": 4,
 "nbformat_minor": 2
}
