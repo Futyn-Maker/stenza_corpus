{
  "cells": [
    {
      "cell_type": "markdown",
      "metadata": {
        "id": "NOVbix-3wAOk"
      },
      "source": [
        "База данных для хранения исходных данных, промежуточных и окончательных результатов.\n"
      ]
    },
    {
      "cell_type": "code",
      "execution_count": 1,
      "metadata": {
        "id": "VWciBAOCwAOm"
      },
      "outputs": [],
      "source": [
        "import sqlite3\n",
        "from conllu import parse\n",
        "from os import listdir"
      ]
    },
    {
      "cell_type": "code",
      "execution_count": 2,
      "metadata": {
        "id": "gS56drNnwAOn"
      },
      "outputs": [],
      "source": [
        "conn = sqlite3.connect('DoctorWho.db')\n",
        "cur = conn.cursor()"
      ]
    },
    {
      "cell_type": "code",
      "source": [
        "cur.executescript('''\n",
        "CREATE TABLE Sentences (\n",
        "    ID INTEGER PRIMARY KEY AUTOINCREMENT,\n",
        "    Sentence TEXT,\n",
        "    Author TEXT,\n",
        "    Name TEXT,\n",
        "    Link TEXT\n",
        ");\n",
        "\n",
        "CREATE TABLE Words (\n",
        "    ID INTEGER PRIMARY KEY AUTOINCREMENT,\n",
        "    Token TEXT,\n",
        "    Lemma TEXT,\n",
        "    POS TEXT,\n",
        "    ID_Sent INTEGER,\n",
        "    FOREIGN KEY (ID_Sent) REFERENCES Sentences(ID)\n",
        ");\n",
        "''')\n",
        "conn.commit()"
      ],
      "metadata": {
        "id": "LoYNwT9gxFui"
      },
      "execution_count": 3,
      "outputs": []
    },
    {
      "cell_type": "markdown",
      "metadata": {
        "id": "IQRKNTguwAOn"
      },
      "source": [
        "Для коллекции предложений conllu идёт первичная итерация по предложениям sent с метадатой meta, вторичная итерация по токенам token с леммой lemma и тегом tag"
      ]
    },
    {
      "cell_type": "code",
      "execution_count": 4,
      "metadata": {
        "id": "t_eCQAcawAOn"
      },
      "outputs": [],
      "source": [
        "# пишем данные в базу\n",
        "id_sent = 1\n",
        "id_token = 1\n",
        "for file in listdir('fics_conllus'):\n",
        "    filename = 'fics_conllus/' + file\n",
        "    with open(filename) as f:\n",
        "        text = f.read()\n",
        "    tokens = parse(text)\n",
        "    for line in tokens:\n",
        "        meta = line.metadata['metadata']\n",
        "        ind1 = meta.find('автор')\n",
        "        ind2 = meta.find('ссылка')\n",
        "        name = meta[10:ind1].rstrip(', ')\n",
        "        author = meta[ind1 + 7 : ind2].rstrip(', ')\n",
        "        link = meta[ind2 + 8:]\n",
        "        sent = str(line.metadata['text'])\n",
        "        cur.execute(\"INSERT INTO Sentences VALUES (?,?,?,?,?)\", (id_sent, sent, author, name, link)) # id, предложение, метадата\n",
        "        for word in line:\n",
        "            token = word['form'].lower()\n",
        "            lemma = word['lemma'].lower()\n",
        "            tag = word['upos']\n",
        "            if tag != 'PUNCT':\n",
        "                cur.execute(\n",
        "                    \"\"\"\n",
        "                        INSERT INTO Words\n",
        "                        VALUES (?,?,?,?,?)\n",
        "                    \"\"\", (id_token,token,lemma,tag,id_sent)) # id, токен, лемма, тег, id предложения, из которго взято слово\n",
        "                id_token +=1\n",
        "        id_sent += 1\n",
        "conn.commit()"
      ]
    },
    {
      "cell_type": "code",
      "source": [
        "# Создаём индексы, чтобы ускорить поиск\n",
        "\n",
        "cur.executescript('''\n",
        "CREATE INDEX idx_token ON Words(Token);\n",
        "CREATE INDEX idx_lemma ON Words(Lemma);\n",
        "CREATE INDEX idx_pos ON Words(POS);\n",
        "''')\n",
        "conn.commit()"
      ],
      "metadata": {
        "id": "aaI93Jr903sI"
      },
      "execution_count": 5,
      "outputs": []
    },
    {
      "cell_type": "code",
      "execution_count": 6,
      "metadata": {
        "id": "TsRjTcldwAOo"
      },
      "outputs": [],
      "source": [
        "conn.close()"
      ]
    }
  ],
  "metadata": {
    "kernelspec": {
      "display_name": "Python 3",
      "language": "python",
      "name": "python3"
    },
    "language_info": {
      "codemirror_mode": {
        "name": "ipython",
        "version": 3
      },
      "file_extension": ".py",
      "mimetype": "text/x-python",
      "name": "python",
      "nbconvert_exporter": "python",
      "pygments_lexer": "ipython3",
      "version": "3.10.12"
    },
    "colab": {
      "provenance": []
    }
  },
  "nbformat": 4,
  "nbformat_minor": 0
}