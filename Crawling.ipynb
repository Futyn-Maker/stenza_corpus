{
 "cells": [
  {
   "cell_type": "code",
   "execution_count": 1,
   "id": "b2216fab-06dc-4ec0-9f0f-cbb4afa6a33d",
   "metadata": {
    "collapsed": true,
    "jupyter": {
     "outputs_hidden": true
    },
    "tags": []
   },
   "outputs": [
    {
     "name": "stdout",
     "output_type": "stream",
     "text": [
      "Collecting bs4\n",
      "  Using cached bs4-0.0.1-py3-none-any.whl\n",
      "Requirement already satisfied: beautifulsoup4 in c:\\users\\wadjeteye\\appdata\\local\\programs\\python\\python39\\lib\\site-packages (from bs4) (4.12.2)\n",
      "Requirement already satisfied: soupsieve>1.2 in c:\\users\\wadjeteye\\appdata\\local\\programs\\python\\python39\\lib\\site-packages (from beautifulsoup4->bs4) (2.5)\n",
      "Installing collected packages: bs4\n",
      "Successfully installed bs4-0.0.1\n"
     ]
    }
   ],
   "source": [
    "!pip install bs4"
   ]
  },
  {
   "cell_type": "code",
   "execution_count": 2,
   "id": "e0c52c47-6a40-4124-88c4-4bc011d3ec1a",
   "metadata": {
    "collapsed": true,
    "jupyter": {
     "outputs_hidden": true
    },
    "tags": []
   },
   "outputs": [
    {
     "name": "stdout",
     "output_type": "stream",
     "text": [
      "Collecting fake_useragent\n",
      "  Obtaining dependency information for fake_useragent from https://files.pythonhosted.org/packages/56/56/f72e9ca4f9cfb966f489c2b8ea04c67fa8d0cfbb62b1651cb9d6aef110a6/fake_useragent-1.3.0-py3-none-any.whl.metadata\n",
      "  Downloading fake_useragent-1.3.0-py3-none-any.whl.metadata (13 kB)\n",
      "Collecting importlib-resources>=5.0 (from fake_useragent)\n",
      "  Obtaining dependency information for importlib-resources>=5.0 from https://files.pythonhosted.org/packages/65/6e/09d8816b5cb7a4006ef8ad1717a2703ad9f331dae9717d9f22488a2d6469/importlib_resources-6.1.0-py3-none-any.whl.metadata\n",
      "  Downloading importlib_resources-6.1.0-py3-none-any.whl.metadata (4.1 kB)\n",
      "Requirement already satisfied: zipp>=3.1.0 in c:\\users\\wadjeteye\\appdata\\local\\programs\\python\\python39\\lib\\site-packages (from importlib-resources>=5.0->fake_useragent) (3.17.0)\n",
      "Downloading fake_useragent-1.3.0-py3-none-any.whl (15 kB)\n",
      "Downloading importlib_resources-6.1.0-py3-none-any.whl (33 kB)\n",
      "Installing collected packages: importlib-resources, fake_useragent\n",
      "Successfully installed fake_useragent-1.3.0 importlib-resources-6.1.0\n"
     ]
    }
   ],
   "source": [
    "!pip install fake_useragent"
   ]
  },
  {
   "cell_type": "code",
   "execution_count": 2,
   "id": "a9139f85-3cf7-438b-94cf-cf5d16871a39",
   "metadata": {
    "tags": []
   },
   "outputs": [],
   "source": [
    "from fake_useragent import UserAgent\n",
    "import requests\n",
    "from bs4 import BeautifulSoup\n",
    "import nltk\n",
    "from collections import Counter\n",
    "import pandas as pd\n",
    "from time import sleep\n",
    "from random import randint\n",
    "import os\n",
    "import re"
   ]
  },
  {
   "cell_type": "code",
   "execution_count": 55,
   "id": "6d837852-220b-4e3b-8903-cf36a8e84485",
   "metadata": {
    "collapsed": true,
    "jupyter": {
     "outputs_hidden": true
    },
    "tags": []
   },
   "outputs": [
    {
     "name": "stderr",
     "output_type": "stream",
     "text": [
      "Downloading https://raw.githubusercontent.com/stanfordnlp/stanza-resources/main/resources_1.6.0.json: 367kB [00:00, 20.9MB/s]\n",
      "2023-10-18 18:06:07 INFO: Downloading default packages for language: ru (Russian) ...\n",
      "2023-10-18 18:06:08 INFO: File exists: C:\\Users\\GL_24_12_2019\\stanza_resources\\ru\\default.zip\n",
      "2023-10-18 18:06:11 INFO: Finished downloading models and saved to C:\\Users\\GL_24_12_2019\\stanza_resources.\n",
      "2023-10-18 18:06:11 INFO: Checking for updates to resources.json in case models have been updated.  Note: this behavior can be turned off with download_method=None or download_method=DownloadMethod.REUSE_RESOURCES\n",
      "Downloading https://raw.githubusercontent.com/stanfordnlp/stanza-resources/main/resources_1.6.0.json: 367kB [00:00, 10.5MB/s]\n",
      "2023-10-18 18:06:13 INFO: Loading these models for language: ru (Russian):\n",
      "==================================\n",
      "| Processor | Package            |\n",
      "----------------------------------\n",
      "| tokenize  | syntagrus          |\n",
      "| pos       | syntagrus_charlm   |\n",
      "| lemma     | syntagrus_nocharlm |\n",
      "| depparse  | syntagrus_charlm   |\n",
      "| ner       | wikiner            |\n",
      "==================================\n",
      "\n",
      "2023-10-18 18:06:13 INFO: Using device: cpu\n",
      "2023-10-18 18:06:13 INFO: Loading: tokenize\n",
      "2023-10-18 18:06:13 INFO: Loading: pos\n",
      "2023-10-18 18:06:13 INFO: Loading: lemma\n",
      "2023-10-18 18:06:13 INFO: Loading: depparse\n",
      "2023-10-18 18:06:13 INFO: Loading: ner\n",
      "2023-10-18 18:06:14 INFO: Done loading processors!\n"
     ]
    }
   ],
   "source": [
    "import stanza\n",
    "stanza.download('ru') # download English model\n",
    "nlp = stanza.Pipeline('ru')"
   ]
  },
  {
   "cell_type": "code",
   "execution_count": 4,
   "id": "ee33f623-a7b2-450e-b05c-f13d41d36532",
   "metadata": {},
   "outputs": [],
   "source": [
    "ua = UserAgent()\n",
    "headers = {\"UserAgent\": ua.random}\n",
    "session = requests.session()"
   ]
  },
  {
   "cell_type": "code",
   "execution_count": 3,
   "id": "7218f9e3-61d0-4e50-8ac6-e0c78b099307",
   "metadata": {},
   "outputs": [],
   "source": [
    "os.mkdir('./better_corpus')"
   ]
  },
  {
   "cell_type": "code",
   "execution_count": 3,
   "id": "20cc0c9b-6c37-4a71-ac47-915a5041dc4b",
   "metadata": {},
   "outputs": [],
   "source": [
    "# собираем ссылки на фанфики с одной страницы\n",
    "def retrieve_links_from_page(search_page_link):\n",
    "    response = session.get(search_page_link, headers=headers)\n",
    "    soup = BeautifulSoup(response.text)\n",
    "    fic_links = []\n",
    "    links = soup.find_all(\"a\")\n",
    "    for link in links:\n",
    "        filt = link.get('href')\n",
    "        if filt != None:\n",
    "            if filt.startswith('/s'):\n",
    "                fic_links.append(filt)\n",
    "    return fic_links"
   ]
  },
  {
   "cell_type": "code",
   "execution_count": 5,
   "id": "d2f0e4fa-1f54-47ad-bdd4-0c97294ea5ac",
   "metadata": {},
   "outputs": [],
   "source": [
    "sp_links = ['https://ru.fanfiktion.net/?a=u&catid=300000263&search=do&search_title=&search_summary=&search_author=&searchStoryLengthStart=0&searchStoryLengthEnd=101000&ffcbg-TYPESTORY%5B%5D=13&ffcbg-TYPESTORY%5B%5D=7&ffcbg-TYPESTORY%5B%5D=8&ffcbg-TYPESTORY%5B%5D=4&ffcbg-TYPESTORY%5B%5D=6&ffcbg-TYPESTORY%5B%5D=3&ffcbg-TYPESTORY%5B%5D=2&ffcbg-TYPESTORY%5B%5D=5&ffcbg-TYPESTORY%5B%5D=9&search_genrelist1=0&search_genrelist2=0&ffcbg-AGEADVICE-RU%5B%5D=1&ffcbg-AGEADVICE-RU%5B%5D=2&ffcbg-AGEADVICE-RU%5B%5D=4&ffcbg-PAIRINGTYPE%5B%5D=1&ffcbg-storystatus%5B%5D=0&ffcbg-storystatus%5B%5D=1&ffcbg-storystatus%5B%5D=2&ffcbg-storystatus%5B%5D=4&ffcbg-storystatus%5B%5D=3&search_sortby=score', \n",
    "            'https://ru.fanfiktion.net/?a=u&catid=300000263&search=do&s=2&search_title=&search_summary=&search_author=&searchStoryLengthStart=0&searchStoryLengthEnd=101000&search_genrelist1=0&search_genrelist2=0&search_sortby=score&ffcbg-TYPESTORY%5B%5D=13&ffcbg-TYPESTORY%5B%5D=7&ffcbg-TYPESTORY%5B%5D=8&ffcbg-TYPESTORY%5B%5D=4&ffcbg-TYPESTORY%5B%5D=6&ffcbg-TYPESTORY%5B%5D=3&ffcbg-TYPESTORY%5B%5D=2&ffcbg-TYPESTORY%5B%5D=5&ffcbg-TYPESTORY%5B%5D=9&ffcbg-AGEADVICE-RU%5B%5D=1&ffcbg-AGEADVICE-RU%5B%5D=2&ffcbg-AGEADVICE-RU%5B%5D=4&ffcbg-PAIRINGTYPE%5B%5D=1&ffcbg-storystatus%5B%5D=0&ffcbg-storystatus%5B%5D=1&ffcbg-storystatus%5B%5D=2&ffcbg-storystatus%5B%5D=4&ffcbg-storystatus%5B%5D=3',\n",
    "            'https://ru.fanfiktion.net/?a=u&catid=300000263&search=do&s=3&search_title=&search_summary=&search_author=&searchStoryLengthStart=0&searchStoryLengthEnd=101000&search_genrelist1=0&search_genrelist2=0&search_sortby=score&ffcbg-TYPESTORY%5B%5D=13&ffcbg-TYPESTORY%5B%5D=7&ffcbg-TYPESTORY%5B%5D=8&ffcbg-TYPESTORY%5B%5D=4&ffcbg-TYPESTORY%5B%5D=6&ffcbg-TYPESTORY%5B%5D=3&ffcbg-TYPESTORY%5B%5D=2&ffcbg-TYPESTORY%5B%5D=5&ffcbg-TYPESTORY%5B%5D=9&ffcbg-AGEADVICE-RU%5B%5D=1&ffcbg-AGEADVICE-RU%5B%5D=2&ffcbg-AGEADVICE-RU%5B%5D=4&ffcbg-PAIRINGTYPE%5B%5D=1&ffcbg-storystatus%5B%5D=0&ffcbg-storystatus%5B%5D=1&ffcbg-storystatus%5B%5D=2&ffcbg-storystatus%5B%5D=4&ffcbg-storystatus%5B%5D=3',\n",
    "            'https://ru.fanfiktion.net/?a=u&catid=300000263&search=do&s=4&search_title=&search_summary=&search_author=&searchStoryLengthStart=0&searchStoryLengthEnd=101000&search_genrelist1=0&search_genrelist2=0&search_sortby=score&ffcbg-TYPESTORY%5B%5D=13&ffcbg-TYPESTORY%5B%5D=7&ffcbg-TYPESTORY%5B%5D=8&ffcbg-TYPESTORY%5B%5D=4&ffcbg-TYPESTORY%5B%5D=6&ffcbg-TYPESTORY%5B%5D=3&ffcbg-TYPESTORY%5B%5D=2&ffcbg-TYPESTORY%5B%5D=5&ffcbg-TYPESTORY%5B%5D=9&ffcbg-AGEADVICE-RU%5B%5D=1&ffcbg-AGEADVICE-RU%5B%5D=2&ffcbg-AGEADVICE-RU%5B%5D=4&ffcbg-PAIRINGTYPE%5B%5D=1&ffcbg-storystatus%5B%5D=0&ffcbg-storystatus%5B%5D=1&ffcbg-storystatus%5B%5D=2&ffcbg-storystatus%5B%5D=4&ffcbg-storystatus%5B%5D=3',\n",
    "            'https://ru.fanfiktion.net/?a=u&catid=300000263&search=do&s=5&search_title=&search_summary=&search_author=&searchStoryLengthStart=0&searchStoryLengthEnd=101000&search_genrelist1=0&search_genrelist2=0&search_sortby=score&ffcbg-TYPESTORY%5B%5D=13&ffcbg-TYPESTORY%5B%5D=7&ffcbg-TYPESTORY%5B%5D=8&ffcbg-TYPESTORY%5B%5D=4&ffcbg-TYPESTORY%5B%5D=6&ffcbg-TYPESTORY%5B%5D=3&ffcbg-TYPESTORY%5B%5D=2&ffcbg-TYPESTORY%5B%5D=5&ffcbg-TYPESTORY%5B%5D=9&ffcbg-AGEADVICE-RU%5B%5D=1&ffcbg-AGEADVICE-RU%5B%5D=2&ffcbg-AGEADVICE-RU%5B%5D=4&ffcbg-PAIRINGTYPE%5B%5D=1&ffcbg-storystatus%5B%5D=0&ffcbg-storystatus%5B%5D=1&ffcbg-storystatus%5B%5D=2&ffcbg-storystatus%5B%5D=4&ffcbg-storystatus%5B%5D=3',\n",
    "            'https://ru.fanfiktion.net/?a=u&catid=300000263&search=do&s=6&search_title=&search_summary=&search_author=&searchStoryLengthStart=0&searchStoryLengthEnd=101000&search_genrelist1=0&search_genrelist2=0&search_sortby=score&ffcbg-TYPESTORY%5B%5D=13&ffcbg-TYPESTORY%5B%5D=7&ffcbg-TYPESTORY%5B%5D=8&ffcbg-TYPESTORY%5B%5D=4&ffcbg-TYPESTORY%5B%5D=6&ffcbg-TYPESTORY%5B%5D=3&ffcbg-TYPESTORY%5B%5D=2&ffcbg-TYPESTORY%5B%5D=5&ffcbg-TYPESTORY%5B%5D=9&ffcbg-AGEADVICE-RU%5B%5D=1&ffcbg-AGEADVICE-RU%5B%5D=2&ffcbg-AGEADVICE-RU%5B%5D=4&ffcbg-PAIRINGTYPE%5B%5D=1&ffcbg-storystatus%5B%5D=0&ffcbg-storystatus%5B%5D=1&ffcbg-storystatus%5B%5D=2&ffcbg-storystatus%5B%5D=4&ffcbg-storystatus%5B%5D=3']"
   ]
  },
  {
   "cell_type": "code",
   "execution_count": null,
   "id": "9ad57458-42d8-4843-aa47-ba01bb21e931",
   "metadata": {},
   "outputs": [],
   "source": [
    "# собираем список ссылок на все фанфики на всех страницах \n",
    "fic_links = []\n",
    "for sp_link in sp_links:\n",
    "    li = retrieve_links_from_page(sp_link)\n",
    "    fic_links.extend(li)"
   ]
  },
  {
   "cell_type": "code",
   "execution_count": 47,
   "id": "e04c5bdc-f918-4bcf-bd15-ae512304479b",
   "metadata": {
    "collapsed": true,
    "jupyter": {
     "outputs_hidden": true
    },
    "tags": []
   },
   "outputs": [
    {
     "data": {
      "text/plain": [
       "['/s/5d8f687d000012a832a404d4/1/Doktor-dlya-Zolushki',\n",
       " '/s/5bfa6b48000016a338dde953/1/Zhenskaya-solidarnost',\n",
       " '/s/5ab0ce68000016a3db6c11e/1/Stepen-ne-veroyatnosti',\n",
       " '/s/596fc33d00000ab5ff587c9/1/Blagoslovennaya-noch',\n",
       " '/s/596fb6e000000ab536985105/1/My-oh-my',\n",
       " '/s/596a64b300000ab5291d0537/1/A-thousand-kisses-deep',\n",
       " '/s/5963e5e600000ab513bd2d4a/1/White-Light',\n",
       " '/s/56cf66a40000123b19501272/1/Fajf-o-klok',\n",
       " '/s/563fc38e00000a7d1636f333/1/Zhdem-nastoyashego-Doktora',\n",
       " '/s/563b7ef70000116a1c720b07/1/Amy-039-s-Choice',\n",
       " '/s/56316af400000a7d1efc32bb/1/Bozhestvennaya-sila',\n",
       " '/s/5630148100000a7d205b4ee0/1/Eksperiment',\n",
       " '/s/562eb46500000a7d8aeb65e/1/Chasti-pamyati',\n",
       " '/s/562d465b00000a7d1af02646/1/Vnutri',\n",
       " '/s/562c15e800000a7d21068709/1/Magii-ne-byvaet',\n",
       " '/s/562ace3a00000a7d19e1c02c/1/Delo-lyudej',\n",
       " '/s/562968da00000a7d25ef91e6/1/Zolotoj-vek',\n",
       " '/s/5556703000000a7dd7e4008/1/Odnostrochniki',\n",
       " '/s/562823a300000a7d237fecd8/1/Shtorm',\n",
       " '/s/5626d66100000a7d12b04563/1/Ego-nastoyashaya-polovinka',\n",
       " '/s/5626047100000a7d20e1be4c/1/Ne-doveryajte-avtootvetchikam',\n",
       " '/s/54961b3f00000a7d234b0edb/1/Hroniki-Nyu-Gallifreya',\n",
       " '/s/5524647800000a7db6dc708/1/To-chego-v-Huniverse-voobshe-ne-mozhet-byt',\n",
       " '/s/55230a2400000a7dc55b8d6/1/Arhiv',\n",
       " '/s/5515f4a700000a7d1f86dc84/1/Zheleznyj-Brigadir',\n",
       " '/s/54ab107c00000a7d2b2a5538/1/Agitacionnye-plakaty',\n",
       " '/s/5494ae5f00000a7d39c0152d/1/Snachala-deti',\n",
       " '/s/5494a8c800000a7d225d12d7/1/Homyachok-i-hejter-o-vselennoj-Huniversa',\n",
       " '/s/5479aad700000a7f19d5263a/1/Nyu-Gauda-Prajm',\n",
       " '/s/5479a95400000a7f277949aa/1/Credo-quia-absurdum-quot-Veruyu-ibo-absurdno-quot',\n",
       " '/s/5479a84600000a7f1eebcc39/1/Silnodejstvuyushee-sredstvo',\n",
       " '/s/54745a6900000a7f106dd596/1/Novyj-Gallifrej',\n",
       " '/s/5477aad900000a7d1847d869/1/Proekt-quot-Genezis-quot',\n",
       " '/s/547659fb00000a7d2638c7bc/1/Kolonisty',\n",
       " '/s/5476585300000a7d38a7c192/1/Pervoe-puteshestvie',\n",
       " '/s/5475024b00000a7d251e7066/1/Inorodnoe-telo',\n",
       " '/s/5474ffb000000a7d35982513/1/Slishkom-chuzhoj',\n",
       " '/s/5474ff3b00000a7d2b2d2ae5/1/Shkolnyj-uchitel',\n",
       " '/s/547458c600000a7f1acf2e7e/1/Put-k-bessmertiyu',\n",
       " '/s/5473a98600000a7d11fa4f6d/1/Plan-po-zahvatu-mira-dlya-kotikov',\n",
       " '/s/5473a3c700000a7d1ae65394/1/Nenavist-ko-dnyu-svyatogo-Valentina',\n",
       " '/s/54731a7200000a7f7bf3cde/1/Toklafany-i-svyatoj-Patrik',\n",
       " '/s/547318f500000a7fb556e27/1/Zhizn-igra',\n",
       " '/s/54726f1e00000a7d32565115/1/Sila',\n",
       " '/s/54726dea00000a7d2b650c9c/1/Slishkom-pravdivaya-pravda',\n",
       " '/s/54726da500000a7d270ff8cc/1/Uzhin-s-vragom',\n",
       " '/s/54724c6400000a7fb64d1ac/1/Bozon-Baskervilej',\n",
       " '/s/54724b9f00000a7f29119fa1/1/Omegavers',\n",
       " '/s/547226a000000a7f200d9981/1/Metafora',\n",
       " '/s/547225e300000a7f15278949/1/Pervaya-regeneraciya',\n",
       " '/s/5472257700000a7f21ad59c4/1/Bashnya-slonovoj-kosti',\n",
       " '/s/5470f94f00000a7d349e3053/1/Ustarevshaya-tradiciya',\n",
       " '/s/5470f8c100000a7de5a6244/1/Sovershenno-yasnoe-delo',\n",
       " '/s/546fd22000000a7dee7134f/1/Kto-v-sapogah',\n",
       " '/s/546fcff500000a7d25bf99f0/1/Bulochki-strategicheskogo-naznacheniya',\n",
       " '/s/546fcfa300000a7d18b16942/1/Est-takaya-professiya',\n",
       " '/s/546e684300000a7d35ea3670/1/Ot-rassveta-do-rassveta',\n",
       " '/s/546e66cd00000a7d31f81d0e/1/Kazhdyj-dobryj-volshebnik-okazyvaetsya',\n",
       " '/s/546e659b00000a7d2dd73b68/1/quot-na-soiskanie-dolzhnosti-nauchnogo-konsultanta-YuNIT-quot',\n",
       " '/s/546d1b0c00000a7d1cb28043/1/Siyayushee-chudo',\n",
       " '/s/546d19cc00000a7d328680d8/1/Trava-u-doma',\n",
       " '/s/546cf8f500000a7f2005aa2a/1/Nastoyashie-chudesa',\n",
       " '/s/546cf7d700000a7f15e1bebd/1/Dve-olivki-dva-nolya',\n",
       " '/s/546bc66800000a7d22c0059a/1/Zagovor-vo-imya-budushego',\n",
       " '/s/546bc49a00000a7d20279d69/1/Gde-vodyatsya-volshebniki',\n",
       " '/s/546a7d7300000a7dd4de477/1/Goryachij-interfejs-ili-Bonus-za-Dzheka',\n",
       " '/s/54690db600000a7de260d0f/1/Da-zdravstvuet-koroleva',\n",
       " '/s/5469079d00000a7fb703c6e/1/Kvantovaya-zaputannost',\n",
       " '/s/5469066e00000a7f25c5eb7f/1/Hochesh-mira-gotovsya-k-vojne',\n",
       " '/s/5469057300000a7f318a8349/1/Kvantovoe-kafe',\n",
       " '/s/5469048700000a7f1d43564c/1/Smert-na-Gallifree',\n",
       " '/s/5467c7ff00000a7d35e59733/1/Kurator',\n",
       " '/s/5467c6f500000a7d250e4527/1/Zagadki-sfinksa',\n",
       " '/s/546689c900000a7d1add9f81/1/Mudroe-pravlenie',\n",
       " '/s/546688cb00000a7d35aa3c61/1/Uzh-luchshe-smert',\n",
       " '/s/546537d100000a7d1869c8fb/1/Radius-dejstviya',\n",
       " '/s/5465370900000a7d1a207913/1/Bolshe-chem-bog',\n",
       " '/s/5463e29e00000a7d121a9abe/1/Otchet-s-ryushami',\n",
       " '/s/5463e20100000a7d21edeae9/1/Zmeya-otrashivaet-nogi',\n",
       " '/s/5463e10200000a7df3df8cf/1/Pochemu-Doktor-ne-beryot-v-sputniki-uchyonyh',\n",
       " '/s/54628fdf00000a7d26f4072a/1/Pamyat-tela',\n",
       " '/s/54628e8100000a7d23dc17b7/1/Kto-zlodej',\n",
       " '/s/54628ddc00000a7d2dcab350/1/Kvaster',\n",
       " '/s/54627c4900000a7f2a1a787c/1/Fars-i-tragediya',\n",
       " '/s/54627ad300000a7f1738e9c3/1/Uroboros',\n",
       " '/s/5462229000000a7d28c31be9/1/Lichnaya-styuardessa-Huniversa',\n",
       " '/s/5461430b00000a7db57bbd9/1/Kak-napisat-maksi-za-pyat-minut',\n",
       " '/s/546141f200000a7d1bbdde17/1/Evolyuciya',\n",
       " '/s/546131a800000a7f1fba13d3/1/Eksklyuzivnyj-soft',\n",
       " '/s/5460e96d00000a7f16175f79/1/Koshki-myshki',\n",
       " '/s/545fc7c800000a7d2b773463/1/Vneshtatnyj-agent-NRU',\n",
       " '/s/545f68f700000a7d20500834/1/Ih-budushee-ih-proshloe',\n",
       " '/s/545eb59300000a7d31fc7ae2/1/Mara',\n",
       " '/s/545eb48700000a7d225e8109/1/Na-bortu-prizraki',\n",
       " '/s/545e99a700000a7f3ac7d62b/1/Oblako-Oorta',\n",
       " '/s/545e647800000a7d2bd1f27b/1/Osnovateli',\n",
       " '/s/545d66a200000a7d336d039d/1/Poslannik-missiya-vypolnena',\n",
       " '/s/5458004600000a7f291b4737/1/Vybiraya-realnost',\n",
       " '/s/54579a0a00000a7d307acedd/1/Myagkaya-igrushka',\n",
       " '/s/545785b000000a7f3a6fec75/1/Dyuny-Marsa',\n",
       " '/s/545781e500000a7d38a94c32/1/Den-rozhdeniya-Torchvuda',\n",
       " '/s/545772ab00000a7f16081f6f/1/Sdelka-s-drakonom',\n",
       " '/s/5457719100000a7f2a167bfc/1/Kogda-Zemlya-vskriknula',\n",
       " '/s/5456afd200000a7d34928061/1/Virus',\n",
       " '/s/5454c59400000a7f33bf63fd/1/Tikayushij-mehanizm',\n",
       " '/s/5454c45700000a7ff1053c5/1/Ultrafioletovye-gryozy',\n",
       " '/s/5454c2b600000a7f1e275efb/1/Uravnenie',\n",
       " '/s/5454c1d600000a7f3631d7a4/1/Astronomicheskoe-tysyacheletie',\n",
       " '/s/5454c0e000000a7f3b774c50/1/Velikij-Kot',\n",
       " '/s/5454bf5100000a7fa002145/1/Nemyortvye',\n",
       " '/s/545423ee00000a7d2d537c52/1/Pytka',\n",
       " '/s/545421bc00000a7d1494942e/1/Sekret-krasnoj-pomady',\n",
       " '/s/54541e7600000a7daf1ea89/1/Toklafanskaya-liricheskaya',\n",
       " '/s/5453e0b900000a7fb5bcf73/1/Zona-turbulentnosti',\n",
       " '/s/54535b2f00000a7f1b4f28e7/1/Brat-Kadfael-i-chudesnaya-chasovnya',\n",
       " '/s/5453502700000a7f24559792/1/Flot-Hardrady',\n",
       " '/s/5452dbed00000a7d1de5873d/1/Pohodnaya-pesnya-dalekov']"
      ]
     },
     "execution_count": 47,
     "metadata": {},
     "output_type": "execute_result"
    }
   ],
   "source": [
    "fic_links"
   ]
  },
  {
   "cell_type": "code",
   "execution_count": 8,
   "id": "54838c98-2b7c-46c5-970a-015638291e1e",
   "metadata": {
    "tags": []
   },
   "outputs": [],
   "source": [
    "# добываем текст каждого фанфика, немного его чистим и сохраняем\n",
    "def get_fic(fic_link):\n",
    "    full_link = 'https://ru.fanfiktion.net' + fic_link\n",
    "    response = session.get(full_link, headers=headers)\n",
    "    soup = BeautifulSoup(response.text)\n",
    "    name = soup.find('h4', class_ = \"huge-font\").get_text()\n",
    "    author = soup.find('a', class_ = \"no-wrap\").get_text()\n",
    "    last_page = int(soup.find(\"span\", class_ = \"semibold\").get_text())\n",
    "    metadata = f'{{\"author\": \"{author}\", \"fic_name\": \"{name}\",  \"link\": \"{full_link}\"}}'\n",
    "    link_parts = fic_link.split('/')\n",
    "    save_path = 'corpus'\n",
    "    full_path = os.path.join(save_path, link_parts[-1]+\".txt\")  \n",
    "    with open(full_path, \"w\", encoding=\"UTF-8\") as file:\n",
    "        file.write(metadata)\n",
    "        for n in range(1, last_page+1):\n",
    "            link_parts[3] = str(n)\n",
    "            chapter_link = 'https://ru.fanfiktion.net' + '/'.join(link_parts)\n",
    "            chapter_response = session.get(chapter_link, headers=headers)\n",
    "            soup = BeautifulSoup(chapter_response.text)\n",
    "            chapter_text = soup.find(class_=\"user-formatted-inner\")\n",
    "            chapter_text = re.sub(r\"                                \", \"\", str(chapter_text))\n",
    "            clean_html = re.compile('<.*?>') \n",
    "            chapter_text = re.sub(clean_html, \" \", chapter_text)\n",
    "            file.write(text)\n",
    "            sleep(randint(1,3))"
   ]
  },
  {
   "cell_type": "code",
   "execution_count": 43,
   "id": "702ea133-18de-4d76-8ef3-a3824cb9c823",
   "metadata": {
    "jupyter": {
     "source_hidden": true
    },
    "tags": []
   },
   "outputs": [],
   "source": [
    "lnk = 'https://ru.fanfiktion.net/s/545421bc00000a7d1494942e/1/Sekret-krasnoj-pomady'\n",
    "rs = session.get(lnk, headers=headers)\n",
    "sps = BeautifulSoup(rs.text)\n",
    "txt = sps.find(class_=\"user-formatted-inner\")\n",
    "txt = re.sub(r\"                                \", \"\", str(txt))\n",
    "clean_html = re.compile('<.*?>') \n",
    "txt = re.sub(clean_html, \"\", txt)\n",
    "with open(\"test_text.txt\", \"w\", encoding = \"UTF-8\") as f:\n",
    "    f.write(txt)"
   ]
  },
  {
   "cell_type": "code",
   "execution_count": 62,
   "id": "24738221-d188-4ab1-aad2-4fc6a37a8494",
   "metadata": {
    "tags": []
   },
   "outputs": [],
   "source": [
    "for fic_link in fic_links:\n",
    "    get_fic(fic_link)"
   ]
  },
  {
   "cell_type": "code",
   "execution_count": null,
   "id": "af55255c-1e82-467c-8889-20623f1b0e63",
   "metadata": {},
   "outputs": [],
   "source": []
  }
 ],
 "metadata": {
  "kernelspec": {
   "display_name": "Python 3 (ipykernel)",
   "language": "python",
   "name": "python3"
  },
  "language_info": {
   "codemirror_mode": {
    "name": "ipython",
    "version": 3
   },
   "file_extension": ".py",
   "mimetype": "text/x-python",
   "name": "python",
   "nbconvert_exporter": "python",
   "pygments_lexer": "ipython3",
   "version": "3.8.3"
  }
 },
 "nbformat": 4,
 "nbformat_minor": 5
}
